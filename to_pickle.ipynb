{
 "cells": [
  {
   "cell_type": "code",
   "execution_count": 7,
   "metadata": {
    "collapsed": false
   },
   "outputs": [
    {
     "name": "stdout",
     "output_type": "stream",
     "text": [
      "(132, 480, 640, 3) (132, 4)\n"
     ]
    }
   ],
   "source": [
    "import time, cv2\n",
    "import os\n",
    "from os import listdir\n",
    "from os.path import isfile, join\n",
    "import numpy as np\n",
    "from scipy import ndimage\n",
    "\n",
    "\n",
    "def read_folder(pth, label):\n",
    "    pics = [f for f in listdir(pth) if isfile(join(pth, f))]\n",
    "    imgs =[]\n",
    "    for f in pics:\n",
    "        img = cv2.imread(join(pth, f))\n",
    "#         img = ndimage.imread(join(pth, f))\n",
    "        imgs.append(img)\n",
    "    labels = np.array([ label for ii in range(len(pics))])\n",
    "    labels = (np.arange(4) == labels[:,None]).astype(np.float32)\n",
    "    return imgs, labels\n",
    "    \n",
    "tmp_pics, tmp_labels = read_folder(\"/notebooks/car/CARCARCAR/ff\", 0)\n",
    "train_pics = tmp_pics[:33];  \n",
    "train_labels = tmp_labels[:33]\n",
    "\n",
    "tmp_pics, tmp_labels = read_folder(\"/notebooks/car/CARCARCAR/bb\", 1)\n",
    "train_pics = train_pics + tmp_pics[:33];  \n",
    "train_labels = list(train_labels) + list(tmp_labels[:33])\n",
    "\n",
    "tmp_pics, tmp_labels = read_folder(\"/notebooks/car/CARCARCAR/ll\", 2)\n",
    "train_pics = train_pics + tmp_pics[:33];  \n",
    "train_labels = list(train_labels) + list(tmp_labels[:33])\n",
    "\n",
    "tmp_pics, tmp_labels = read_folder(\"/notebooks/car/CARCARCAR/rr\", 3)\n",
    "train_pics = train_pics + tmp_pics[:33];  \n",
    "train_labels = list(train_labels) + list(tmp_labels[:33])\n",
    "\n",
    "train_pics = np.array(train_pics);  train_labels = np.array(train_labels)\n",
    "\n",
    "print train_pics.shape, train_labels.shape\n"
   ]
  },
  {
   "cell_type": "code",
   "execution_count": 8,
   "metadata": {
    "collapsed": false
   },
   "outputs": [
    {
     "name": "stdout",
     "output_type": "stream",
     "text": [
      "(180, 480, 640, 3) (180, 4)\n"
     ]
    }
   ],
   "source": [
    "\n",
    "\n",
    "\n",
    "\n",
    "\n",
    "\n",
    "\n",
    "import time, cv2\n",
    "import os\n",
    "from os import listdir\n",
    "from os.path import isfile, join\n",
    "import numpy as np\n",
    "from scipy import ndimage\n",
    "\n",
    "\n",
    "def read_folder(pth, label):\n",
    "    pics = [f for f in listdir(pth) if isfile(join(pth, f))]\n",
    "    imgs =[]\n",
    "    for f in pics:\n",
    "        img = cv2.imread(join(pth, f))\n",
    "#         img = ndimage.imread(join(pth, f))\n",
    "        imgs.append(img)\n",
    "    labels = np.array([ label for ii in range(len(pics))])\n",
    "    labels = (np.arange(4) == labels[:,None]).astype(np.float32)\n",
    "    return imgs, labels\n",
    "    \n",
    "tmp_pics, tmp_labels = read_folder(\"/notebooks/car/obstacles/fff\", 0)\n",
    "train_pics = tmp_pics[-45:];  \n",
    "train_labels = tmp_labels[-45:]\n",
    "\n",
    "tmp_pics, tmp_labels = read_folder(\"/notebooks/car/obstacles/bbb\", 1)\n",
    "train_pics = train_pics + tmp_pics[:];  \n",
    "train_labels = list(train_labels) + list(tmp_labels[:])\n",
    "\n",
    "tmp_pics, tmp_labels = read_folder(\"/notebooks/car/obstacles/lll\", 2)\n",
    "train_pics = train_pics + tmp_pics[-45:];  \n",
    "train_labels = list(train_labels) + list(tmp_labels[-45:])\n",
    "\n",
    "tmp_pics, tmp_labels = read_folder(\"/notebooks/car/obstacles/rrr\", 3)\n",
    "train_pics = train_pics + tmp_pics[-45:];  \n",
    "train_labels = list(train_labels) + list(tmp_labels[-45:])\n",
    "\n",
    "train_pics = np.array(train_pics);  train_labels = np.array(train_labels)\n",
    "\n",
    "print train_pics.shape, train_labels.shape\n",
    "\n",
    "\n"
   ]
  },
  {
   "cell_type": "code",
   "execution_count": 9,
   "metadata": {
    "collapsed": false
   },
   "outputs": [
    {
     "name": "stdout",
     "output_type": "stream",
     "text": [
      "[[[135 165 190]\n",
      "  [135 165 190]\n",
      "  [135 165 190]\n",
      "  ..., \n",
      "  [ 85 106 134]\n",
      "  [ 81 100 127]\n",
      "  [ 85 104 131]]\n",
      "\n",
      " [[136 166 191]\n",
      "  [136 166 191]\n",
      "  [135 165 190]\n",
      "  ..., \n",
      "  [ 84 105 133]\n",
      "  [ 85 104 131]\n",
      "  [ 85 104 131]]\n",
      "\n",
      " [[138 168 193]\n",
      "  [137 167 192]\n",
      "  [137 167 192]\n",
      "  ..., \n",
      "  [ 80 101 129]\n",
      "  [ 81 102 130]\n",
      "  [ 75  96 124]]\n",
      "\n",
      " ..., \n",
      " [[ 55  54  56]\n",
      "  [ 57  59  60]\n",
      "  [ 50  49  51]\n",
      "  ..., \n",
      "  [ 57  61  72]\n",
      "  [ 61  63  74]\n",
      "  [ 61  63  74]]\n",
      "\n",
      " [[ 58  56  56]\n",
      "  [ 39  39  39]\n",
      "  [ 50  48  48]\n",
      "  ..., \n",
      "  [ 86  88  99]\n",
      "  [ 78  80  91]\n",
      "  [ 78  80  91]]\n",
      "\n",
      " [[ 55  53  53]\n",
      "  [ 61  59  59]\n",
      "  [ 55  53  53]\n",
      "  ..., \n",
      "  [ 79  81  92]\n",
      "  [ 84  86  97]\n",
      "  [ 88  90 101]]]\n"
     ]
    }
   ],
   "source": [
    "# for ii in train_labels:\n",
    "#     print ii\n",
    "\n",
    "print train_pics[0]"
   ]
  },
  {
   "cell_type": "code",
   "execution_count": 10,
   "metadata": {
    "collapsed": false
   },
   "outputs": [
    {
     "name": "stdout",
     "output_type": "stream",
     "text": [
      "done\n"
     ]
    }
   ],
   "source": [
    "import cPickle as pickle\n",
    "with open(\"read_data.pickle\", \"w\") as f:\n",
    "    pickle.dump({\"pics\": train_pics, \"labels\": train_labels}, f, pickle.HIGHEST_PROTOCOL)\n",
    "print \"done\""
   ]
  },
  {
   "cell_type": "code",
   "execution_count": null,
   "metadata": {
    "collapsed": true
   },
   "outputs": [],
   "source": []
  }
 ],
 "metadata": {
  "kernelspec": {
   "display_name": "Python 2",
   "language": "python",
   "name": "python2"
  },
  "language_info": {
   "codemirror_mode": {
    "name": "ipython",
    "version": 2
   },
   "file_extension": ".py",
   "mimetype": "text/x-python",
   "name": "python",
   "nbconvert_exporter": "python",
   "pygments_lexer": "ipython2",
   "version": "2.7.6"
  }
 },
 "nbformat": 4,
 "nbformat_minor": 0
}
