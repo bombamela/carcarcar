{
 "cells": [
  {
   "cell_type": "code",
   "execution_count": 14,
   "metadata": {
    "collapsed": false
   },
   "outputs": [
    {
     "name": "stdout",
     "output_type": "stream",
     "text": [
      "(132, 480, 640, 3) (132, 4)\n"
     ]
    }
   ],
   "source": [
    "import time, cv2\n",
    "import os\n",
    "from os import listdir\n",
    "from os.path import isfile, join\n",
    "import numpy as np\n",
    "from scipy import ndimage\n",
    "\n",
    "\n",
    "def read_folder(pth, label):\n",
    "    pics = [f for f in listdir(pth) if isfile(join(pth, f))]\n",
    "    imgs =[]\n",
    "    for f in pics:\n",
    "        img = cv2.imread(join(pth, f))\n",
    "#         img = ndimage.imread(join(pth, f))\n",
    "        imgs.append(img)\n",
    "    labels = np.array([ label for ii in range(len(pics))])\n",
    "    labels = (np.arange(4) == labels[:,None]).astype(np.float32)\n",
    "    return imgs, labels\n",
    "    \n",
    "tmp_pics, tmp_labels = read_folder(\"/notebooks/car/CARCARCAR/ff\", 0)\n",
    "train_pics = tmp_pics[:33];  \n",
    "train_labels = tmp_labels[:33]\n",
    "\n",
    "tmp_pics, tmp_labels = read_folder(\"/notebooks/car/CARCARCAR/bb\", 1)\n",
    "train_pics = train_pics + tmp_pics[:33];  \n",
    "train_labels = list(train_labels) + list(tmp_labels[:33])\n",
    "\n",
    "tmp_pics, tmp_labels = read_folder(\"/notebooks/car/CARCARCAR/ll\", 2)\n",
    "train_pics = train_pics + tmp_pics[:33];  \n",
    "train_labels = list(train_labels) + list(tmp_labels[:33])\n",
    "\n",
    "tmp_pics, tmp_labels = read_folder(\"/notebooks/car/CARCARCAR/rr\", 3)\n",
    "train_pics = train_pics + tmp_pics[:33];  \n",
    "train_labels = list(train_labels) + list(tmp_labels[:33])\n",
    "\n",
    "train_pics = np.array(train_pics);  train_labels = np.array(train_labels)\n",
    "\n",
    "print train_pics.shape, train_labels.shape\n"
   ]
  },
  {
   "cell_type": "code",
   "execution_count": 4,
   "metadata": {
    "collapsed": false
   },
   "outputs": [
    {
     "name": "stdout",
     "output_type": "stream",
     "text": [
      "(244, 480, 640, 3) (244, 4)\n"
     ]
    }
   ],
   "source": [
    "\n",
    "\n",
    "\n",
    "\n",
    "\n",
    "\n",
    "\n",
    "import time, cv2\n",
    "import os\n",
    "from os import listdir\n",
    "from os.path import isfile, join\n",
    "import numpy as np\n",
    "from scipy import ndimage\n",
    "\n",
    "\n",
    "def read_folder(pth, label):\n",
    "    pics = [f for f in listdir(pth) if isfile(join(pth, f))]\n",
    "    imgs =[]\n",
    "    for f in pics:\n",
    "        img = cv2.imread(join(pth, f))\n",
    "#         img = ndimage.imread(join(pth, f))\n",
    "        imgs.append(img)\n",
    "    labels = np.array([ label for ii in range(len(pics))])\n",
    "    labels = (np.arange(4) == labels[:,None]).astype(np.float32)\n",
    "    return imgs, labels\n",
    "    \n",
    "tmp_pics, tmp_labels = read_folder(\"/notebooks/car/obstacles/fff\", 0)\n",
    "train_pics = tmp_pics[-45:];  \n",
    "train_labels = tmp_labels[-45:]\n",
    "\n",
    "tmp_pics, tmp_labels = read_folder(\"/notebooks/car/obstacles/bbb\", 1)\n",
    "train_pics = train_pics + tmp_pics[:];  \n",
    "train_labels = list(train_labels) + list(tmp_labels[:])\n",
    "\n",
    "tmp_pics, tmp_labels = read_folder(\"/notebooks/car/obstacles/lll\", 2)\n",
    "train_pics = train_pics + tmp_pics[-45:];  \n",
    "train_labels = list(train_labels) + list(tmp_labels[-45:])\n",
    "\n",
    "tmp_pics, tmp_labels = read_folder(\"/notebooks/car/obstacles/rrr\", 3)\n",
    "train_pics = train_pics + tmp_pics[-45:];  \n",
    "train_labels = list(train_labels) + list(tmp_labels[-45:])\n",
    "\n",
    "train_pics = np.array(train_pics);  train_labels = np.array(train_labels)\n",
    "\n",
    "print train_pics.shape, train_labels.shape\n",
    "\n",
    "\n"
   ]
  },
  {
   "cell_type": "code",
   "execution_count": 5,
   "metadata": {
    "collapsed": false
   },
   "outputs": [
    {
     "name": "stdout",
     "output_type": "stream",
     "text": [
      "[[[251 249 255]\n",
      "  [251 249 255]\n",
      "  [251 249 255]\n",
      "  ..., \n",
      "  [ 12  11  13]\n",
      "  [ 12  11  13]\n",
      "  [ 12  11  13]]\n",
      "\n",
      " [[251 249 255]\n",
      "  [249 249 255]\n",
      "  [251 249 255]\n",
      "  ..., \n",
      "  [ 12  11  13]\n",
      "  [ 12  11  13]\n",
      "  [ 12  11  13]]\n",
      "\n",
      " [[247 247 253]\n",
      "  [245 248 253]\n",
      "  [247 247 253]\n",
      "  ..., \n",
      "  [ 12  11  13]\n",
      "  [ 12  11  13]\n",
      "  [ 12  11  13]]\n",
      "\n",
      " ..., \n",
      " [[162 157 158]\n",
      "  [182 177 178]\n",
      "  [193 188 189]\n",
      "  ..., \n",
      "  [ 59  64  85]\n",
      "  [ 55  60  81]\n",
      "  [ 60  65  86]]\n",
      "\n",
      " [[187 182 183]\n",
      "  [171 166 167]\n",
      "  [186 181 182]\n",
      "  ..., \n",
      "  [ 61  66  87]\n",
      "  [ 62  67  88]\n",
      "  [ 62  67  88]]\n",
      "\n",
      " [[165 160 161]\n",
      "  [176 171 172]\n",
      "  [181 176 177]\n",
      "  ..., \n",
      "  [ 55  60  81]\n",
      "  [ 55  60  81]\n",
      "  [ 55  60  81]]]\n"
     ]
    }
   ],
   "source": [
    "# for ii in train_labels:\n",
    "#     print ii\n",
    "\n",
    "print train_pics[0]"
   ]
  },
  {
   "cell_type": "code",
   "execution_count": 6,
   "metadata": {
    "collapsed": false
   },
   "outputs": [
    {
     "name": "stdout",
     "output_type": "stream",
     "text": [
      "done\n"
     ]
    }
   ],
   "source": [
    "import cPickle as pickle\n",
    "with open(\"read_data.pickle\", \"w\") as f:\n",
    "    pickle.dump({\"pics\": train_pics, \"labels\": train_labels}, f, pickle.HIGHEST_PROTOCOL)\n",
    "print \"done\""
   ]
  },
  {
   "cell_type": "code",
   "execution_count": null,
   "metadata": {
    "collapsed": true
   },
   "outputs": [],
   "source": []
  }
 ],
 "metadata": {
  "kernelspec": {
   "display_name": "Python 2",
   "language": "python",
   "name": "python2"
  },
  "language_info": {
   "codemirror_mode": {
    "name": "ipython",
    "version": 2
   },
   "file_extension": ".py",
   "mimetype": "text/x-python",
   "name": "python",
   "nbconvert_exporter": "python",
   "pygments_lexer": "ipython2",
   "version": "2.7.6"
  }
 },
 "nbformat": 4,
 "nbformat_minor": 0
}
